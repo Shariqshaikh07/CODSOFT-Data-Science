{
 "cells": [
  {
   "cell_type": "markdown",
   "id": "acfcd0ec-5504-43c2-9e0d-57b25b3e80f2",
   "metadata": {},
   "source": [
    "Author: Shariq Shaikh\n",
    "\n",
    "Domain: Data Science\n",
    "\n",
    "Batch: April 2025\n",
    "\n",
    "Task: Movie Rating Prediction\n",
    "\n",
    "Aim: to build a model that predicts the rating of a movie based on\n",
    "features like genre, director, and actors."
   ]
  },
  {
   "cell_type": "markdown",
   "id": "259123da-3cdd-4f29-a73a-82f835104ee4",
   "metadata": {},
   "source": [
    "1.Data and Importating Important Libraries"
   ]
  },
  {
   "cell_type": "code",
   "execution_count": null,
   "id": "e7c11811-808b-4b82-8901-1225b4a406d5",
   "metadata": {},
   "outputs": [],
   "source": [
    "import numpy as np\n",
    "import pandas as pd\n",
    "import seaborn as sns\n",
    "import matplotlib.pyplot as plt"
   ]
  },
  {
   "cell_type": "code",
   "execution_count": null,
   "id": "6b45e5fe-19d6-4af9-8978-1b53b9e76e0e",
   "metadata": {},
   "outputs": [],
   "source": [
    "#to Import the dataset\n",
    "T2data = pd.read_csv('IMDb Movies India.csv', encoding='latin1')"
   ]
  },
  {
   "cell_type": "code",
   "execution_count": null,
   "id": "07e4998e-5bbc-4f08-b8c6-97d87cb7daa7",
   "metadata": {},
   "outputs": [
    {
     "data": {
      "text/html": [
       "<div>\n",
       "<style scoped>\n",
       "    .dataframe tbody tr th:only-of-type {\n",
       "        vertical-align: middle;\n",
       "    }\n",
       "\n",
       "    .dataframe tbody tr th {\n",
       "        vertical-align: top;\n",
       "    }\n",
       "\n",
       "    .dataframe thead th {\n",
       "        text-align: right;\n",
       "    }\n",
       "</style>\n",
       "<table border=\"1\" class=\"dataframe\">\n",
       "  <thead>\n",
       "    <tr style=\"text-align: right;\">\n",
       "      <th></th>\n",
       "      <th>Name</th>\n",
       "      <th>Year</th>\n",
       "      <th>Duration</th>\n",
       "      <th>Genre</th>\n",
       "      <th>Rating</th>\n",
       "      <th>Votes</th>\n",
       "      <th>Director</th>\n",
       "      <th>Actor 1</th>\n",
       "      <th>Actor 2</th>\n",
       "      <th>Actor 3</th>\n",
       "    </tr>\n",
       "  </thead>\n",
       "  <tbody>\n",
       "    <tr>\n",
       "      <th>0</th>\n",
       "      <td></td>\n",
       "      <td>NaN</td>\n",
       "      <td>NaN</td>\n",
       "      <td>Drama</td>\n",
       "      <td>NaN</td>\n",
       "      <td>NaN</td>\n",
       "      <td>J.S. Randhawa</td>\n",
       "      <td>Manmauji</td>\n",
       "      <td>Birbal</td>\n",
       "      <td>Rajendra Bhatia</td>\n",
       "    </tr>\n",
       "    <tr>\n",
       "      <th>1</th>\n",
       "      <td>#Gadhvi (He thought he was Gandhi)</td>\n",
       "      <td>(2019)</td>\n",
       "      <td>109 min</td>\n",
       "      <td>Drama</td>\n",
       "      <td>7.0</td>\n",
       "      <td>8</td>\n",
       "      <td>Gaurav Bakshi</td>\n",
       "      <td>Rasika Dugal</td>\n",
       "      <td>Vivek Ghamande</td>\n",
       "      <td>Arvind Jangid</td>\n",
       "    </tr>\n",
       "    <tr>\n",
       "      <th>2</th>\n",
       "      <td>#Homecoming</td>\n",
       "      <td>(2021)</td>\n",
       "      <td>90 min</td>\n",
       "      <td>Drama, Musical</td>\n",
       "      <td>NaN</td>\n",
       "      <td>NaN</td>\n",
       "      <td>Soumyajit Majumdar</td>\n",
       "      <td>Sayani Gupta</td>\n",
       "      <td>Plabita Borthakur</td>\n",
       "      <td>Roy Angana</td>\n",
       "    </tr>\n",
       "    <tr>\n",
       "      <th>3</th>\n",
       "      <td>#Yaaram</td>\n",
       "      <td>(2019)</td>\n",
       "      <td>110 min</td>\n",
       "      <td>Comedy, Romance</td>\n",
       "      <td>4.4</td>\n",
       "      <td>35</td>\n",
       "      <td>Ovais Khan</td>\n",
       "      <td>Prateik</td>\n",
       "      <td>Ishita Raj</td>\n",
       "      <td>Siddhant Kapoor</td>\n",
       "    </tr>\n",
       "    <tr>\n",
       "      <th>4</th>\n",
       "      <td>...And Once Again</td>\n",
       "      <td>(2010)</td>\n",
       "      <td>105 min</td>\n",
       "      <td>Drama</td>\n",
       "      <td>NaN</td>\n",
       "      <td>NaN</td>\n",
       "      <td>Amol Palekar</td>\n",
       "      <td>Rajat Kapoor</td>\n",
       "      <td>Rituparna Sengupta</td>\n",
       "      <td>Antara Mali</td>\n",
       "    </tr>\n",
       "  </tbody>\n",
       "</table>\n",
       "</div>"
      ],
      "text/plain": [
       "                                 Name    Year Duration            Genre  \\\n",
       "0                                         NaN      NaN            Drama   \n",
       "1  #Gadhvi (He thought he was Gandhi)  (2019)  109 min            Drama   \n",
       "2                         #Homecoming  (2021)   90 min   Drama, Musical   \n",
       "3                             #Yaaram  (2019)  110 min  Comedy, Romance   \n",
       "4                   ...And Once Again  (2010)  105 min            Drama   \n",
       "\n",
       "   Rating Votes            Director       Actor 1             Actor 2  \\\n",
       "0     NaN   NaN       J.S. Randhawa      Manmauji              Birbal   \n",
       "1     7.0     8       Gaurav Bakshi  Rasika Dugal      Vivek Ghamande   \n",
       "2     NaN   NaN  Soumyajit Majumdar  Sayani Gupta   Plabita Borthakur   \n",
       "3     4.4    35          Ovais Khan       Prateik          Ishita Raj   \n",
       "4     NaN   NaN        Amol Palekar  Rajat Kapoor  Rituparna Sengupta   \n",
       "\n",
       "           Actor 3  \n",
       "0  Rajendra Bhatia  \n",
       "1    Arvind Jangid  \n",
       "2       Roy Angana  \n",
       "3  Siddhant Kapoor  \n",
       "4      Antara Mali  "
      ]
     },
     "execution_count": 83,
     "metadata": {},
     "output_type": "execute_result"
    }
   ],
   "source": [
    "# Dataset First Look\n",
    "T2data.head()"
   ]
  },
  {
   "cell_type": "code",
   "execution_count": null,
   "id": "896944cf-7610-4c03-8f01-ab1258c2ac23",
   "metadata": {},
   "outputs": [
    {
     "data": {
      "text/plain": [
       "(15509, 10)"
      ]
     },
     "execution_count": 85,
     "metadata": {},
     "output_type": "execute_result"
    }
   ],
   "source": [
    "# Dataset Rows & Columns count\n",
    "T2data.shape"
   ]
  },
  {
   "cell_type": "code",
   "execution_count": null,
   "id": "4a95608e-fd1d-4594-b010-6c63659369a1",
   "metadata": {},
   "outputs": [
    {
     "name": "stdout",
     "output_type": "stream",
     "text": [
      "<class 'pandas.core.frame.DataFrame'>\n",
      "RangeIndex: 15509 entries, 0 to 15508\n",
      "Data columns (total 10 columns):\n",
      " #   Column    Non-Null Count  Dtype  \n",
      "---  ------    --------------  -----  \n",
      " 0   Name      15509 non-null  object \n",
      " 1   Year      14981 non-null  object \n",
      " 2   Duration  7240 non-null   object \n",
      " 3   Genre     13632 non-null  object \n",
      " 4   Rating    7919 non-null   float64\n",
      " 5   Votes     7920 non-null   object \n",
      " 6   Director  14984 non-null  object \n",
      " 7   Actor 1   13892 non-null  object \n",
      " 8   Actor 2   13125 non-null  object \n",
      " 9   Actor 3   12365 non-null  object \n",
      "dtypes: float64(1), object(9)\n",
      "memory usage: 1.2+ MB\n"
     ]
    }
   ],
   "source": [
    "# Dataset Info\n",
    "T2data.info()"
   ]
  },
  {
   "cell_type": "code",
   "execution_count": null,
   "id": "7c1558fb-c208-4a6e-b3e2-1329506d0ce3",
   "metadata": {},
   "outputs": [
    {
     "name": "stdout",
     "output_type": "stream",
     "text": [
      "Number of Duplicate Rows in the Movie dataset: 6\n"
     ]
    }
   ],
   "source": [
    "# Dataset Duplicate Value Count\n",
    "num_duplicate_rows = T2data.duplicated().sum()\n",
    "\n",
    "# Display the number of duplicate rows\n",
    "print(\"Number of Duplicate Rows in the Movie dataset:\", num_duplicate_rows)"
   ]
  },
  {
   "cell_type": "code",
   "execution_count": null,
   "id": "c33a6e94-a914-4fc4-8616-95082a7f0a0e",
   "metadata": {},
   "outputs": [
    {
     "name": "stdout",
     "output_type": "stream",
     "text": [
      "Missing Values Count:\n",
      "Name           0\n",
      "Year         528\n",
      "Duration    8269\n",
      "Genre       1877\n",
      "Rating      7590\n",
      "Votes       7589\n",
      "Director     525\n",
      "Actor 1     1617\n",
      "Actor 2     2384\n",
      "Actor 3     3144\n",
      "dtype: int64\n"
     ]
    }
   ],
   "source": [
    "# Missing Values/Null Values Count\n",
    "missing_values_count = T2data.isnull().sum()\n",
    "# Display the missing values count for each column\n",
    "print(\"Missing Values Count:\")\n",
    "print(missing_values_count)"
   ]
  },
  {
   "cell_type": "code",
   "execution_count": null,
   "id": "fb12b95d-e26f-4a5a-9add-1ca01b4ef943",
   "metadata": {},
   "outputs": [
    {
     "data": {
      "image/png": "[encoded data removed]",
      "text/plain": [
       "<Figure size 1000x600 with 1 Axes>"
      ]
     },
     "metadata": {},
     "output_type": "display_data"
    }
   ],
   "source": [
    "# Plotting missing values count for each column\n",
    "plt.figure(figsize=(10, 6))\n",
    "missing_values_count.plot(kind='bar', color='blue')\n",
    "plt.title('Missing Values Count for Each Column')\n",
    "plt.xlabel('Columns')\n",
    "plt.ylabel('Missing Values Count')\n",
    "plt.xticks(rotation=45, ha='right')\n",
    "plt.show()"
   ]
  },
  {
   "cell_type": "markdown",
   "id": "a3a2c713-4dbf-4f14-83d5-1a9c8a79ce35",
   "metadata": {},
   "source": [
    "2.Understanding Your Variables"
   ]
  },
  {
   "cell_type": "code",
   "execution_count": null,
   "id": "9eaf2060-7df8-4363-9d2a-405ade040abe",
   "metadata": {},
   "outputs": [
    {
     "data": {
      "text/plain": [
       "Index(['Name', 'Year', 'Duration', 'Genre', 'Rating', 'Votes', 'Director',\n",
       "       'Actor 1', 'Actor 2', 'Actor 3'],\n",
       "      dtype='object')"
      ]
     },
     "execution_count": 95,
     "metadata": {},
     "output_type": "execute_result"
    }
   ],
   "source": [
    "# Dataset Columns\n",
    "T2data.columns"
   ]
  },
  {
   "cell_type": "code",
   "execution_count": null,
   "id": "c87875ce-4ca1-4ae3-897d-a481576ce5e4",
   "metadata": {},
   "outputs": [
    {
     "data": {
      "text/html": [
       "<div>\n",
       "<style scoped>\n",
       "    .dataframe tbody tr th:only-of-type {\n",
       "        vertical-align: middle;\n",
       "    }\n",
       "\n",
       "    .dataframe tbody tr th {\n",
       "        vertical-align: top;\n",
       "    }\n",
       "\n",
       "    .dataframe thead th {\n",
       "        text-align: right;\n",
       "    }\n",
       "</style>\n",
       "<table border=\"1\" class=\"dataframe\">\n",
       "  <thead>\n",
       "    <tr style=\"text-align: right;\">\n",
       "      <th></th>\n",
       "      <th>Rating</th>\n",
       "    </tr>\n",
       "  </thead>\n",
       "  <tbody>\n",
       "    <tr>\n",
       "      <th>count</th>\n",
       "      <td>7919.000000</td>\n",
       "    </tr>\n",
       "    <tr>\n",
       "      <th>mean</th>\n",
       "      <td>5.841621</td>\n",
       "    </tr>\n",
       "    <tr>\n",
       "      <th>std</th>\n",
       "      <td>1.381777</td>\n",
       "    </tr>\n",
       "    <tr>\n",
       "      <th>min</th>\n",
       "      <td>1.100000</td>\n",
       "    </tr>\n",
       "    <tr>\n",
       "      <th>25%</th>\n",
       "      <td>4.900000</td>\n",
       "    </tr>\n",
       "    <tr>\n",
       "      <th>50%</th>\n",
       "      <td>6.000000</td>\n",
       "    </tr>\n",
       "    <tr>\n",
       "      <th>75%</th>\n",
       "      <td>6.800000</td>\n",
       "    </tr>\n",
       "    <tr>\n",
       "      <th>max</th>\n",
       "      <td>10.000000</td>\n",
       "    </tr>\n",
       "  </tbody>\n",
       "</table>\n",
       "</div>"
      ],
      "text/plain": [
       "            Rating\n",
       "count  7919.000000\n",
       "mean      5.841621\n",
       "std       1.381777\n",
       "min       1.100000\n",
       "25%       4.900000\n",
       "50%       6.000000\n",
       "75%       6.800000\n",
       "max      10.000000"
      ]
     },
     "execution_count": 97,
     "metadata": {},
     "output_type": "execute_result"
    }
   ],
   "source": [
    "# Dataset Describe\n",
    "T2data.describe()"
   ]
  },
  {
   "cell_type": "markdown",
   "id": "066f78b4-ba48-4d08-87dc-12f37415f120",
   "metadata": {},
   "source": [
    "3.Data Wrangling"
   ]
  },
  {
   "cell_type": "code",
   "execution_count": null,
   "id": "be48fae6-d93d-4aa1-809f-688d94ae200e",
   "metadata": {},
   "outputs": [],
   "source": [
    "# Drop rows with missing 'Rating' values\n",
    "T2data.dropna(subset=[\"Rating\"], inplace=True)\n",
    "\n",
    "# Drop rows with missing values in 'Actor 1', 'Actor 2', 'Actor 3', 'Director', and 'Genre'\n",
    "T2data.dropna(subset=['Actor 1', 'Actor 2', 'Actor 3', 'Director', 'Genre'], inplace=True)"
   ]
  },
  {
   "cell_type": "code",
   "execution_count": null,
   "id": "55a096f1-aa3b-490c-b5c4-db5e0ab7426d",
   "metadata": {},
   "outputs": [
    {
     "data": {
      "text/plain": [
       "Name           0\n",
       "Year           0\n",
       "Duration    1899\n",
       "Genre          0\n",
       "Rating         0\n",
       "Votes          0\n",
       "Director       0\n",
       "Actor 1        0\n",
       "Actor 2        0\n",
       "Actor 3        0\n",
       "dtype: int64"
      ]
     },
     "execution_count": 101,
     "metadata": {},
     "output_type": "execute_result"
    }
   ],
   "source": [
    "T2data.isnull().sum()"
   ]
  },
  {
   "cell_type": "code",
   "execution_count": null,
   "id": "26be84b4-bb8e-415d-ae3b-b60a639adc69",
   "metadata": {},
   "outputs": [],
   "source": [
    "# Convert 'Votes' column to numeric by removing commas and converting to integer\n",
    "T2data['Votes'] = T2data['Votes'].str.replace(',', '').astype(int)\n",
    "\n",
    "# Convert 'Year' column by stripping parentheses and converting to integer\n",
    "T2data['Year'] = T2data['Year'].str.strip('()').astype(int)\n",
    "\n",
    "# Convert 'Duration' column by stripping 'min' and converting to integer\n",
    "T2data['Duration'] = T2data['Duration'].str.replace(' min', '').astype(float)\n",
    "\n",
    "# Impute missing values for 'Duration' with the median\n",
    "T2data['Duration'].fillna(T2data['Duration'].median(), inplace=True)"
   ]
  },
  {
   "cell_type": "code",
   "execution_count": null,
   "id": "fef268c8-74cd-40a3-bc44-cfda18051831",
   "metadata": {},
   "outputs": [
    {
     "data": {
      "text/plain": [
       "Name        0\n",
       "Year        0\n",
       "Duration    0\n",
       "Genre       0\n",
       "Rating      0\n",
       "Votes       0\n",
       "Director    0\n",
       "Actor 1     0\n",
       "Actor 2     0\n",
       "Actor 3     0\n",
       "dtype: int64"
      ]
     },
     "execution_count": 105,
     "metadata": {},
     "output_type": "execute_result"
    }
   ],
   "source": [
    "# Missing Values/Null Values \n",
    "T2data.isnull().sum()"
   ]
  },
  {
   "cell_type": "code",
   "execution_count": null,
   "id": "bf063645-e701-496f-a7c0-e297d1ca539d",
   "metadata": {},
   "outputs": [],
   "source": [
    "# Remove duplicate rows\n",
    "T2data.drop_duplicates(inplace=True)"
   ]
  },
  {
   "cell_type": "code",
   "execution_count": null,
   "id": "3f0d408e-4a96-4043-8216-b9e829104568",
   "metadata": {},
   "outputs": [
    {
     "name": "stdout",
     "output_type": "stream",
     "text": [
      "Number of Duplicate Rows in the Movie dataset: 0\n"
     ]
    }
   ],
   "source": [
    "# Dataset Duplicate Value Count\n",
    "num_duplicate_rows = T2data.duplicated().sum()\n",
    "\n",
    "# Display the number of duplicate rows\n",
    "print(\"Number of Duplicate Rows in the Movie dataset:\", num_duplicate_rows)"
   ]
  },
  {
   "cell_type": "code",
   "execution_count": null,
   "id": "dbb5149b-a29d-4420-940c-9248b7f07ec5",
   "metadata": {},
   "outputs": [
    {
     "data": {
      "text/html": [
       "<div>\n",
       "<style scoped>\n",
       "    .dataframe tbody tr th:only-of-type {\n",
       "        vertical-align: middle;\n",
       "    }\n",
       "\n",
       "    .dataframe tbody tr th {\n",
       "        vertical-align: top;\n",
       "    }\n",
       "\n",
       "    .dataframe thead th {\n",
       "        text-align: right;\n",
       "    }\n",
       "</style>\n",
       "<table border=\"1\" class=\"dataframe\">\n",
       "  <thead>\n",
       "    <tr style=\"text-align: right;\">\n",
       "      <th></th>\n",
       "      <th>Name</th>\n",
       "      <th>Year</th>\n",
       "      <th>Duration</th>\n",
       "      <th>Genre</th>\n",
       "      <th>Rating</th>\n",
       "      <th>Votes</th>\n",
       "      <th>Director</th>\n",
       "      <th>Actor 1</th>\n",
       "      <th>Actor 2</th>\n",
       "      <th>Actor 3</th>\n",
       "    </tr>\n",
       "  </thead>\n",
       "  <tbody>\n",
       "    <tr>\n",
       "      <th>1</th>\n",
       "      <td>#Gadhvi (He thought he was Gandhi)</td>\n",
       "      <td>2019</td>\n",
       "      <td>109.0</td>\n",
       "      <td>Drama</td>\n",
       "      <td>7.0</td>\n",
       "      <td>8</td>\n",
       "      <td>Gaurav Bakshi</td>\n",
       "      <td>Rasika Dugal</td>\n",
       "      <td>Vivek Ghamande</td>\n",
       "      <td>Arvind Jangid</td>\n",
       "    </tr>\n",
       "    <tr>\n",
       "      <th>3</th>\n",
       "      <td>#Yaaram</td>\n",
       "      <td>2019</td>\n",
       "      <td>110.0</td>\n",
       "      <td>Comedy, Romance</td>\n",
       "      <td>4.4</td>\n",
       "      <td>35</td>\n",
       "      <td>Ovais Khan</td>\n",
       "      <td>Prateik</td>\n",
       "      <td>Ishita Raj</td>\n",
       "      <td>Siddhant Kapoor</td>\n",
       "    </tr>\n",
       "    <tr>\n",
       "      <th>5</th>\n",
       "      <td>...Aur Pyaar Ho Gaya</td>\n",
       "      <td>1997</td>\n",
       "      <td>147.0</td>\n",
       "      <td>Comedy, Drama, Musical</td>\n",
       "      <td>4.7</td>\n",
       "      <td>827</td>\n",
       "      <td>Rahul Rawail</td>\n",
       "      <td>Bobby Deol</td>\n",
       "      <td>Aishwarya Rai Bachchan</td>\n",
       "      <td>Shammi Kapoor</td>\n",
       "    </tr>\n",
       "    <tr>\n",
       "      <th>6</th>\n",
       "      <td>...Yahaan</td>\n",
       "      <td>2005</td>\n",
       "      <td>142.0</td>\n",
       "      <td>Drama, Romance, War</td>\n",
       "      <td>7.4</td>\n",
       "      <td>1086</td>\n",
       "      <td>Shoojit Sircar</td>\n",
       "      <td>Jimmy Sheirgill</td>\n",
       "      <td>Minissha Lamba</td>\n",
       "      <td>Yashpal Sharma</td>\n",
       "    </tr>\n",
       "    <tr>\n",
       "      <th>8</th>\n",
       "      <td>?: A Question Mark</td>\n",
       "      <td>2012</td>\n",
       "      <td>82.0</td>\n",
       "      <td>Horror, Mystery, Thriller</td>\n",
       "      <td>5.6</td>\n",
       "      <td>326</td>\n",
       "      <td>Allyson Patel</td>\n",
       "      <td>Yash Dave</td>\n",
       "      <td>Muntazir Ahmad</td>\n",
       "      <td>Kiran Bhatia</td>\n",
       "    </tr>\n",
       "  </tbody>\n",
       "</table>\n",
       "</div>"
      ],
      "text/plain": [
       "                                 Name  Year  Duration  \\\n",
       "1  #Gadhvi (He thought he was Gandhi)  2019     109.0   \n",
       "3                             #Yaaram  2019     110.0   \n",
       "5                ...Aur Pyaar Ho Gaya  1997     147.0   \n",
       "6                           ...Yahaan  2005     142.0   \n",
       "8                  ?: A Question Mark  2012      82.0   \n",
       "\n",
       "                       Genre  Rating  Votes        Director          Actor 1  \\\n",
       "1                      Drama     7.0      8   Gaurav Bakshi     Rasika Dugal   \n",
       "3            Comedy, Romance     4.4     35      Ovais Khan          Prateik   \n",
       "5     Comedy, Drama, Musical     4.7    827    Rahul Rawail       Bobby Deol   \n",
       "6        Drama, Romance, War     7.4   1086  Shoojit Sircar  Jimmy Sheirgill   \n",
       "8  Horror, Mystery, Thriller     5.6    326   Allyson Patel        Yash Dave   \n",
       "\n",
       "                  Actor 2          Actor 3  \n",
       "1          Vivek Ghamande    Arvind Jangid  \n",
       "3              Ishita Raj  Siddhant Kapoor  \n",
       "5  Aishwarya Rai Bachchan    Shammi Kapoor  \n",
       "6          Minissha Lamba   Yashpal Sharma  \n",
       "8          Muntazir Ahmad     Kiran Bhatia  "
      ]
     },
     "execution_count": 111,
     "metadata": {},
     "output_type": "execute_result"
    }
   ],
   "source": [
    "T2data.head()"
   ]
  },
  {
   "cell_type": "markdown",
   "id": "92f971d4-3d49-4ebd-82a0-90a5c3fbaf21",
   "metadata": {},
   "source": [
    "4.Exploratory data Analysis"
   ]
  },
  {
   "cell_type": "code",
   "execution_count": null,
   "id": "0993da90-9057-48be-9936-b255e35a1aa9",
   "metadata": {},
   "outputs": [
    {
     "name": "stdout",
     "output_type": "stream",
     "text": [
      "Top 10 Movies by Rating:\n",
      "                      Name  Rating\n",
      "8339       Love Qubool Hai    10.0\n",
      "5410            Half Songs     9.7\n",
      "2563                 Breed     9.6\n",
      "5077          Gho Gho Rani     9.4\n",
      "6852                  June     9.4\n",
      "14222  The Reluctant Crime     9.4\n",
      "1314          Ashok Vatika     9.3\n",
      "1729              Baikunth     9.3\n",
      "5125           God of gods     9.3\n",
      "8344          Love Sorries     9.3\n"
     ]
    },
    {
     "data": {
      "image/png": "[encoded data removed]",
      "text/plain": [
       "<Figure size 1000x600 with 1 Axes>"
      ]
     },
     "metadata": {},
     "output_type": "display_data"
    }
   ],
   "source": [
    "# Top 10 Movies by Rating\n",
    "top_movies = T2data.nlargest(10, 'Rating')\n",
    "print(\"Top 10 Movies by Rating:\")\n",
    "print(top_movies[['Name', 'Rating']])\n",
    "\n",
    "# Plot Top 10 Movies by Rating\n",
    "plt.figure(figsize=(10, 6))\n",
    "sns.barplot(x='Rating', y='Name', data=top_movies)\n",
    "plt.title('Top 10 Movies by Rating')\n",
    "plt.xlabel('Rating')\n",
    "plt.ylabel('Movie Name')\n",
    "plt.show()"
   ]
  },
  {
   "cell_type": "code",
   "execution_count": null,
   "id": "58309f83-4d8a-4067-a1c0-68e3dd800180",
   "metadata": {},
   "outputs": [
    {
     "data": {
      "image/png": "[encoded data removed]",
      "text/plain": [
       "<Figure size 1000x600 with 1 Axes>"
      ]
     },
     "metadata": {},
     "output_type": "display_data"
    }
   ],
   "source": [
    "# Relationship between the number of votes and movie ratings\n",
    "plt.figure(figsize=(10, 6))\n",
    "sns.scatterplot(x='Votes', y='Rating', data=T2data)\n",
    "plt.title('Relationship between Number of Votes and Movie Ratings')\n",
    "plt.xlabel('Number of Votes')\n",
    "plt.ylabel('Rating')\n",
    "plt.show()"
   ]
  },
  {
   "cell_type": "code",
   "execution_count": null,
   "id": "08d1194e-b453-4696-b969-fa03f6970fdd",
   "metadata": {},
   "outputs": [
    {
     "name": "stdout",
     "output_type": "stream",
     "text": [
      "Top Actors by Number of Movies:\n",
      "Mithun Chakraborty    231\n",
      "Dharmendra            217\n",
      "Jeetendra             179\n",
      "Ashok Kumar           173\n",
      "Amitabh Bachchan      162\n",
      "Rekha                 133\n",
      "Rajesh Khanna         132\n",
      "Shashi Kapoor         126\n",
      "Sanjay Dutt           123\n",
      "Shatrughan Sinha      120\n",
      "Name: count, dtype: int64\n"
     ]
    },
    {
     "data": {
      "image/png": "[encoded data removed]",
      "text/plain": [
       "<Figure size 1200x800 with 1 Axes>"
      ]
     },
     "metadata": {},
     "output_type": "display_data"
    }
   ],
   "source": [
    "# Distribution of top actors by number of movies\n",
    "actor_counts = pd.concat([T2data['Actor 1'], T2data['Actor 2'], T2data['Actor 3']])\n",
    "actor_counts = actor_counts.value_counts().head(10)\n",
    "print(\"Top Actors by Number of Movies:\")\n",
    "print(actor_counts)\n",
    "\n",
    "# Plot Top Actors by Number of Movies\n",
    "plt.figure(figsize=(12, 8))\n",
    "sns.barplot(x=actor_counts.values, y=actor_counts.index)\n",
    "plt.title('Top Actors by Number of Movies')\n",
    "plt.xlabel('Number of Movies')\n",
    "plt.ylabel('Actor')\n",
    "plt.show()"
   ]
  },
  {
   "cell_type": "markdown",
   "id": "35808cb6-a678-4883-9fba-b214ac9ecc5c",
   "metadata": {},
   "source": [
    "5.Feature Engineering"
   ]
  },
  {
   "cell_type": "code",
   "execution_count": null,
   "id": "232f1cd8-0338-45ac-ba26-c04d8f5777db",
   "metadata": {},
   "outputs": [
    {
     "name": "stdout",
     "output_type": "stream",
     "text": [
      "                                 Name  Year  Duration  Rating  Votes  \\\n",
      "1  #Gadhvi (He thought he was Gandhi)  2019     109.0     7.0      8   \n",
      "3                             #Yaaram  2019     110.0     4.4     35   \n",
      "3                             #Yaaram  2019     110.0     4.4     35   \n",
      "5                ...Aur Pyaar Ho Gaya  1997     147.0     4.7    827   \n",
      "5                ...Aur Pyaar Ho Gaya  1997     147.0     4.7    827   \n",
      "\n",
      "   Director  Actor 1  Actor 2  Actor 3  Genre_1  ...  Genre_12  Genre_13  \\\n",
      "1       755     1686     2725      373    False  ...     False     False   \n",
      "3      1637     1500      865     2543    False  ...     False     False   \n",
      "3      1637     1500      865     2543    False  ...     False     False   \n",
      "5      1881      481       84     2422    False  ...     False     False   \n",
      "5      1881      481       84     2422    False  ...     False     False   \n",
      "\n",
      "   Genre_14  Genre_15  Genre_16  Genre_17  Genre_18  Genre_19  Genre_20  \\\n",
      "1     False     False     False     False     False     False     False   \n",
      "3     False     False     False     False     False     False     False   \n",
      "3     False     False      True     False     False     False     False   \n",
      "5     False     False     False     False     False     False     False   \n",
      "5     False     False     False     False     False     False     False   \n",
      "\n",
      "   Genre_21  \n",
      "1     False  \n",
      "3     False  \n",
      "3     False  \n",
      "5     False  \n",
      "5     False  \n",
      "\n",
      "[5 rows x 30 columns]\n"
     ]
    }
   ],
   "source": [
    "from sklearn.preprocessing import LabelEncoder\n",
    "\n",
    "# Initialize LabelEncoder\n",
    "labelencoder = LabelEncoder()\n",
    "\n",
    "# Encode categorical features\n",
    "T2data['Genre'] = T2data['Genre'].apply(lambda x: x.split(', '))\n",
    "T2data = T2data.explode('Genre')\n",
    "T2data['Genre'] = labelencoder.fit_transform(T2data['Genre'])\n",
    "T2data['Director'] = labelencoder.fit_transform(T2data['Director'])\n",
    "T2data['Actor 1'] = labelencoder.fit_transform(T2data['Actor 1'])\n",
    "T2data['Actor 2'] = labelencoder.fit_transform(T2data['Actor 2'])\n",
    "T2data['Actor 3'] = labelencoder.fit_transform(T2data['Actor 3'])\n",
    "\n",
    "# One-hot encode the 'Genre' column\n",
    "T2data = pd.get_dummies(T2data, columns=['Genre'], drop_first=True)\n",
    "\n",
    "# Display the first few rows of the transformed data\n",
    "print(T2data.head())"
   ]
  },
  {
   "cell_type": "code",
   "execution_count": null,
   "id": "98b83329-1d7d-4b6c-9655-80ee0ac9e086",
   "metadata": {},
   "outputs": [],
   "source": [
    "\n",
    "# Ensure all values in 'Genre' column are strings\n",
    "T2data['Genre'] = T2data['Genre'].astype(str)\n",
    "\n",
    "# One-hot encode the 'Genre' column\n",
    "T2data['Genre'] = T2data['Genre'].apply(lambda x: x.split(', '))\n",
    "T2data = T2data.explode('Genre')\n",
    "T2data = pd.get_dummies(T2data, columns=['Genre'], drop_first=True)"
   ]
  },
  {
   "cell_type": "code",
   "execution_count": null,
   "id": "b12dd0a2-02d4-47ee-a628-84aeb092a485",
   "metadata": {},
   "outputs": [
    {
     "data": {
      "text/html": [
       "<div>\n",
       "<style scoped>\n",
       "    .dataframe tbody tr th:only-of-type {\n",
       "        vertical-align: middle;\n",
       "    }\n",
       "\n",
       "    .dataframe tbody tr th {\n",
       "        vertical-align: top;\n",
       "    }\n",
       "\n",
       "    .dataframe thead th {\n",
       "        text-align: right;\n",
       "    }\n",
       "</style>\n",
       "<table border=\"1\" class=\"dataframe\">\n",
       "  <thead>\n",
       "    <tr style=\"text-align: right;\">\n",
       "      <th></th>\n",
       "      <th>Name</th>\n",
       "      <th>Year</th>\n",
       "      <th>Duration</th>\n",
       "      <th>Rating</th>\n",
       "      <th>Votes</th>\n",
       "      <th>Director</th>\n",
       "      <th>Actor 1</th>\n",
       "      <th>Actor 2</th>\n",
       "      <th>Actor 3</th>\n",
       "      <th>Genre_1</th>\n",
       "      <th>...</th>\n",
       "      <th>Genre_12</th>\n",
       "      <th>Genre_13</th>\n",
       "      <th>Genre_14</th>\n",
       "      <th>Genre_15</th>\n",
       "      <th>Genre_16</th>\n",
       "      <th>Genre_17</th>\n",
       "      <th>Genre_18</th>\n",
       "      <th>Genre_19</th>\n",
       "      <th>Genre_20</th>\n",
       "      <th>Genre_21</th>\n",
       "    </tr>\n",
       "  </thead>\n",
       "  <tbody>\n",
       "    <tr>\n",
       "      <th>1</th>\n",
       "      <td>#Gadhvi (He thought he was Gandhi)</td>\n",
       "      <td>2019</td>\n",
       "      <td>109.0</td>\n",
       "      <td>7.0</td>\n",
       "      <td>8</td>\n",
       "      <td>755</td>\n",
       "      <td>1686</td>\n",
       "      <td>2725</td>\n",
       "      <td>373</td>\n",
       "      <td>False</td>\n",
       "      <td>...</td>\n",
       "      <td>False</td>\n",
       "      <td>False</td>\n",
       "      <td>False</td>\n",
       "      <td>False</td>\n",
       "      <td>False</td>\n",
       "      <td>False</td>\n",
       "      <td>False</td>\n",
       "      <td>False</td>\n",
       "      <td>False</td>\n",
       "      <td>False</td>\n",
       "    </tr>\n",
       "    <tr>\n",
       "      <th>3</th>\n",
       "      <td>#Yaaram</td>\n",
       "      <td>2019</td>\n",
       "      <td>110.0</td>\n",
       "      <td>4.4</td>\n",
       "      <td>35</td>\n",
       "      <td>1637</td>\n",
       "      <td>1500</td>\n",
       "      <td>865</td>\n",
       "      <td>2543</td>\n",
       "      <td>False</td>\n",
       "      <td>...</td>\n",
       "      <td>False</td>\n",
       "      <td>False</td>\n",
       "      <td>False</td>\n",
       "      <td>False</td>\n",
       "      <td>False</td>\n",
       "      <td>False</td>\n",
       "      <td>False</td>\n",
       "      <td>False</td>\n",
       "      <td>False</td>\n",
       "      <td>False</td>\n",
       "    </tr>\n",
       "    <tr>\n",
       "      <th>3</th>\n",
       "      <td>#Yaaram</td>\n",
       "      <td>2019</td>\n",
       "      <td>110.0</td>\n",
       "      <td>4.4</td>\n",
       "      <td>35</td>\n",
       "      <td>1637</td>\n",
       "      <td>1500</td>\n",
       "      <td>865</td>\n",
       "      <td>2543</td>\n",
       "      <td>False</td>\n",
       "      <td>...</td>\n",
       "      <td>False</td>\n",
       "      <td>False</td>\n",
       "      <td>False</td>\n",
       "      <td>False</td>\n",
       "      <td>True</td>\n",
       "      <td>False</td>\n",
       "      <td>False</td>\n",
       "      <td>False</td>\n",
       "      <td>False</td>\n",
       "      <td>False</td>\n",
       "    </tr>\n",
       "    <tr>\n",
       "      <th>5</th>\n",
       "      <td>...Aur Pyaar Ho Gaya</td>\n",
       "      <td>1997</td>\n",
       "      <td>147.0</td>\n",
       "      <td>4.7</td>\n",
       "      <td>827</td>\n",
       "      <td>1881</td>\n",
       "      <td>481</td>\n",
       "      <td>84</td>\n",
       "      <td>2422</td>\n",
       "      <td>False</td>\n",
       "      <td>...</td>\n",
       "      <td>False</td>\n",
       "      <td>False</td>\n",
       "      <td>False</td>\n",
       "      <td>False</td>\n",
       "      <td>False</td>\n",
       "      <td>False</td>\n",
       "      <td>False</td>\n",
       "      <td>False</td>\n",
       "      <td>False</td>\n",
       "      <td>False</td>\n",
       "    </tr>\n",
       "    <tr>\n",
       "      <th>5</th>\n",
       "      <td>...Aur Pyaar Ho Gaya</td>\n",
       "      <td>1997</td>\n",
       "      <td>147.0</td>\n",
       "      <td>4.7</td>\n",
       "      <td>827</td>\n",
       "      <td>1881</td>\n",
       "      <td>481</td>\n",
       "      <td>84</td>\n",
       "      <td>2422</td>\n",
       "      <td>False</td>\n",
       "      <td>...</td>\n",
       "      <td>False</td>\n",
       "      <td>False</td>\n",
       "      <td>False</td>\n",
       "      <td>False</td>\n",
       "      <td>False</td>\n",
       "      <td>False</td>\n",
       "      <td>False</td>\n",
       "      <td>False</td>\n",
       "      <td>False</td>\n",
       "      <td>False</td>\n",
       "    </tr>\n",
       "  </tbody>\n",
       "</table>\n",
       "<p>5 rows × 30 columns</p>\n",
       "</div>"
      ],
      "text/plain": [
       "                                 Name  Year  Duration  Rating  Votes  \\\n",
       "1  #Gadhvi (He thought he was Gandhi)  2019     109.0     7.0      8   \n",
       "3                             #Yaaram  2019     110.0     4.4     35   \n",
       "3                             #Yaaram  2019     110.0     4.4     35   \n",
       "5                ...Aur Pyaar Ho Gaya  1997     147.0     4.7    827   \n",
       "5                ...Aur Pyaar Ho Gaya  1997     147.0     4.7    827   \n",
       "\n",
       "   Director  Actor 1  Actor 2  Actor 3  Genre_1  ...  Genre_12  Genre_13  \\\n",
       "1       755     1686     2725      373    False  ...     False     False   \n",
       "3      1637     1500      865     2543    False  ...     False     False   \n",
       "3      1637     1500      865     2543    False  ...     False     False   \n",
       "5      1881      481       84     2422    False  ...     False     False   \n",
       "5      1881      481       84     2422    False  ...     False     False   \n",
       "\n",
       "   Genre_14  Genre_15  Genre_16  Genre_17  Genre_18  Genre_19  Genre_20  \\\n",
       "1     False     False     False     False     False     False     False   \n",
       "3     False     False     False     False     False     False     False   \n",
       "3     False     False      True     False     False     False     False   \n",
       "5     False     False     False     False     False     False     False   \n",
       "5     False     False     False     False     False     False     False   \n",
       "\n",
       "   Genre_21  \n",
       "1     False  \n",
       "3     False  \n",
       "3     False  \n",
       "5     False  \n",
       "5     False  \n",
       "\n",
       "[5 rows x 30 columns]"
      ]
     },
     "execution_count": 127,
     "metadata": {},
     "output_type": "execute_result"
    }
   ],
   "source": [
    "T2data.head()"
   ]
  },
  {
   "cell_type": "markdown",
   "id": "9a23fda8-0a6f-45ea-bd16-aa7520d9d1e4",
   "metadata": {},
   "source": [
    "6.Model Building"
   ]
  },
  {
   "cell_type": "code",
   "execution_count": null,
   "id": "9b4bd773-0e10-4df8-a079-08aa68c478ad",
   "metadata": {},
   "outputs": [],
   "source": [
    "from sklearn.model_selection import train_test_split\n",
    "from sklearn.linear_model import LinearRegression\n",
    "from sklearn.metrics import mean_squared_error, mean_absolute_error, r2_score\n",
    "\n",
    "# Drop the 'Name' column as it is not useful for prediction\n",
    "T2data.drop(columns=['Name'], inplace=True)\n",
    "\n",
    "# Separate features and target variable\n",
    "X = T2data.drop(['Rating'], axis=1)\n",
    "y = T2data['Rating']\n",
    "\n",
    "# Split the dataset into training and testing sets\n",
    "X_train, X_test, y_train, y_test = train_test_split(X, y, test_size=0.2, random_state=42)\n",
    "\n",
    "# Train a Linear Regression model on the training set\n",
    "model = LinearRegression()\n",
    "model.fit(X_train, y_train)\n",
    "\n",
    "# Predict on the test set\n",
    "y_pred = model.predict(X_test)"
   ]
  },
  {
   "cell_type": "code",
   "execution_count": null,
   "id": "4ac62fc7-1fd1-4042-af54-051f32f0952f",
   "metadata": {},
   "outputs": [
    {
     "data": {
      "text/plain": [
       "4640     5.5\n",
       "14536    3.4\n",
       "12694    6.8\n",
       "3942     8.1\n",
       "13633    7.1\n",
       "        ... \n",
       "1399     4.2\n",
       "9114     7.2\n",
       "4711     7.2\n",
       "13012    4.9\n",
       "12971    4.7\n",
       "Name: Rating, Length: 3076, dtype: float64"
      ]
     },
     "execution_count": 131,
     "metadata": {},
     "output_type": "execute_result"
    }
   ],
   "source": [
    "y_test"
   ]
  },
  {
   "cell_type": "markdown",
   "id": "f5bffffb-7042-4435-8881-3d4c46afd3ef",
   "metadata": {},
   "source": [
    "7.Model Evaluation"
   ]
  },
  {
   "cell_type": "code",
   "execution_count": null,
   "id": "af550054-a458-4138-88f4-61f9558895df",
   "metadata": {},
   "outputs": [
    {
     "name": "stdout",
     "output_type": "stream",
     "text": [
      "Mean Squared Error: 1.7353295148125918\n",
      "Mean Absolute Error: 1.0195608907456954\n",
      "R^2 Score: 0.08024256579571831\n",
      "Predictions on the test set: [6.08991645 5.83893552 5.44311857 ... 6.11514045 5.64954979 5.54572029]\n",
      "Actual ratings from the test set: 4640     5.5\n",
      "14536    3.4\n",
      "12694    6.8\n",
      "3942     8.1\n",
      "13633    7.1\n",
      "        ... \n",
      "1399     4.2\n",
      "9114     7.2\n",
      "4711     7.2\n",
      "13012    4.9\n",
      "12971    4.7\n",
      "Name: Rating, Length: 3076, dtype: float64\n"
     ]
    }
   ],
   "source": [
    "# Evaluate the model\n",
    "y_pred = model.predict(X_test)\n",
    "mse = mean_squared_error(y_test, y_pred)\n",
    "mae = mean_absolute_error(y_test, y_pred)\n",
    "r2 = r2_score(y_test, y_pred)\n",
    "\n",
    "print(f'Mean Squared Error: {mse}')\n",
    "print(f'Mean Absolute Error: {mae}')\n",
    "print(f'R^2 Score: {r2}')\n",
    "\n",
    "# Make predictions on the test set\n",
    "predictions = model.predict(X_test)\n",
    "\n",
    "# Print the predictions\n",
    "print(\"Predictions on the test set:\", predictions)\n",
    "\n",
    "# I want to compare the predictions with the actual ratings:\n",
    "# Print the actual ratings from the test set\n",
    "print(\"Actual ratings from the test set:\", y_test)"
   ]
  },
  {
   "cell_type": "code",
   "execution_count": null,
   "id": "d53bc487-f175-4c33-ab07-d34a167a3ab1",
   "metadata": {},
   "outputs": [],
   "source": []
  }
 ],
 "metadata": {
  "kernelspec": {
   "display_name": "Python 3 (ipykernel)",
   "language": "python",
   "name": "python3"
  },
  "language_info": {
   "codemirror_mode": {
    "name": "ipython",
    "version": 3
   },
   "file_extension": ".py",
   "mimetype": "text/x-python",
   "name": "python",
   "nbconvert_exporter": "python",
   "pygments_lexer": "ipython3",
   "version": "3.11.7"
  }
 },
 "nbformat": 4,
 "nbformat_minor": 5
}
